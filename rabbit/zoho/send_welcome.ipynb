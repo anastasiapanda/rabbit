{
 "cells": [
  {
   "cell_type": "code",
   "execution_count": 1,
   "metadata": {},
   "outputs": [],
   "source": [
    "from SDKInitializer import SDKInitializer"
   ]
  },
  {
   "cell_type": "code",
   "execution_count": 2,
   "metadata": {},
   "outputs": [],
   "source": [
    "%run \"C:\\py\\environ_vars.py\""
   ]
  },
  {
   "cell_type": "code",
   "execution_count": 3,
   "metadata": {},
   "outputs": [],
   "source": [
    "SDKInitializer.initialize(False)"
   ]
  },
  {
   "cell_type": "code",
   "execution_count": 6,
   "metadata": {},
   "outputs": [],
   "source": [
    "import print_stickers_1 as ps1\n",
    "import json"
   ]
  },
  {
   "cell_type": "code",
   "execution_count": 7,
   "metadata": {},
   "outputs": [],
   "source": [
    "ids = {'ids': '4495526000036033061|||4495526000036047057'}"
   ]
  },
  {
   "cell_type": "code",
   "execution_count": 6,
   "metadata": {},
   "outputs": [
    {
     "name": "stdout",
     "output_type": "stream",
     "text": [
      "\n",
      "    select id, DailyID, goods_count, pickerText, cardText\n",
      "    from Deals\n",
      "    where (((id=4495526000035967002) or (id=4495526000036006002)) or (id=4495526000036047021))\n",
      "limit 200\n"
     ]
    }
   ],
   "source": [
    "print(ps1.get_query_text(ids.split('|||')))"
   ]
  },
  {
   "cell_type": "code",
   "execution_count": 8,
   "metadata": {
    "scrolled": true
   },
   "outputs": [
    {
     "name": "stdout",
     "output_type": "stream",
     "text": [
      "body:  {'ids': '4495526000036033061|||4495526000036047057'}\n",
      "    \\b363   \\b1\\b/\\b1|||2021-08-11x1 - 1|||Карточка://|    \\b359   \\b1\\b/\\b2|||2021-08-12x1 - 1|||c-210806-monorsj - 1|||Карточка:Букет моно с розами:\n",
      "\n",
      "Катюша, выздо//|    \\b359   \\b2\\b/\\b2|||2021-08-12x1 - 1|||c-210806-monorsj - 1|||Карточка:СМОТРИТЕ В ЗАЯВКЕ//|\n"
     ]
    }
   ],
   "source": [
    "result = ps1.get(ids)"
   ]
  },
  {
   "cell_type": "code",
   "execution_count": 8,
   "metadata": {},
   "outputs": [
    {
     "name": "stdout",
     "output_type": "stream",
     "text": [
      "    \b348   \b1/1|||2021-08-12x1 - 1|||\\bКарточка:Чемпионке, рекордсменке, гениальном//|    \b350   \b1/1|||2021-08-12x2 - 1|||\\bКарточка://|    \b357   \b1/1|||2021-08-12x1 - 1|||\\bКарточка:Дорогая Гуля, с Днём рождения тебя //|\n"
     ]
    }
   ],
   "source": [
    "print(result)"
   ]
  },
  {
   "cell_type": "code",
   "execution_count": null,
   "metadata": {},
   "outputs": [],
   "source": [
    "(\\\\b)*>"
   ]
  },
  {
   "cell_type": "code",
   "execution_count": 9,
   "metadata": {
    "scrolled": true
   },
   "outputs": [
    {
     "name": "stdout",
     "output_type": "stream",
     "text": [
      "\n",
      "    select id, DailyID, goods_count, pickerText, cardText\n",
      "    from Deals\n",
      "    where (((id=4495526000035967002) or (id=4495526000036006002)) or (id=4495526000036047021))\n",
      "limit 200\n"
     ]
    }
   ],
   "source": [
    "print(ps1.get_query_text(ids.split('|||')))"
   ]
  }
 ],
 "metadata": {
  "kernelspec": {
   "display_name": "Python 3",
   "language": "python",
   "name": "python3"
  },
  "language_info": {
   "codemirror_mode": {
    "name": "ipython",
    "version": 3
   },
   "file_extension": ".py",
   "mimetype": "text/x-python",
   "name": "python",
   "nbconvert_exporter": "python",
   "pygments_lexer": "ipython3",
   "version": "3.8.5"
  }
 },
 "nbformat": 4,
 "nbformat_minor": 4
}
